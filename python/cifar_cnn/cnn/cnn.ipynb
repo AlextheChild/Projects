{
 "cells": [
  {
   "cell_type": "code",
   "execution_count": 2,
   "id": "44f157a1",
   "metadata": {},
   "outputs": [],
   "source": [
    "import tensorflow as tf\n",
    "from tensorflow import keras\n",
    "from keras.datasets import cifar10\n",
    "from keras.models import Sequential \n",
    "from keras.layers import Dense, Dropout, Flatten, Conv2D, MaxPooling2D, BatchNormalization \n",
    "import numpy as np\n",
    "\n",
    "# set up data\n",
    "(train_images, train_labels), (test_images, test_labels) = cifar10.load_data()\n",
    "labels = [\"airplane\", \"automobile\", \"bird\", \"cat\", \"deer\", \"dog\", \"frog\", \"horse\", \"ship\", \"truck\"]\n",
    "\n",
    "\n",
    "input_shape = (32, 32, 3)\n",
    "\n",
    "train_images = train_images.astype('float32')\n",
    "train_images /= 255\n",
    "\n",
    "test_images = test_images.astype('float32')\n",
    "test_images /= 255\n",
    "\n",
    "#one-hot encoding\n",
    "train_labels = keras.utils.to_categorical(train_labels, 10)\n",
    "test_labels = keras.utils.to_categorical(test_labels, 10)"
   ]
  },
  {
   "cell_type": "code",
   "execution_count": 3,
   "id": "005735df",
   "metadata": {},
   "outputs": [
    {
     "name": "stdout",
     "output_type": "stream",
     "text": [
      "Model: \"sequential\"\n",
      "_________________________________________________________________\n",
      " Layer (type)                Output Shape              Param #   \n",
      "=================================================================\n",
      " conv2d (Conv2D)             (None, 30, 30, 32)        896       \n",
      "                                                                 \n",
      " conv2d_1 (Conv2D)           (None, 28, 28, 64)        18496     \n",
      "                                                                 \n",
      " max_pooling2d (MaxPooling2  (None, 14, 14, 64)        0         \n",
      " D)                                                              \n",
      "                                                                 \n",
      " dropout (Dropout)           (None, 14, 14, 64)        0         \n",
      "                                                                 \n",
      " batch_normalization (Batch  (None, 14, 14, 64)        256       \n",
      " Normalization)                                                  \n",
      "                                                                 \n",
      " conv2d_2 (Conv2D)           (None, 12, 12, 64)        36928     \n",
      "                                                                 \n",
      " max_pooling2d_1 (MaxPoolin  (None, 12, 12, 64)        0         \n",
      " g2D)                                                            \n",
      "                                                                 \n",
      " dropout_1 (Dropout)         (None, 12, 12, 64)        0         \n",
      "                                                                 \n",
      " batch_normalization_1 (Bat  (None, 12, 12, 64)        256       \n",
      " chNormalization)                                                \n",
      "                                                                 \n",
      " conv2d_3 (Conv2D)           (None, 10, 10, 128)       73856     \n",
      "                                                                 \n",
      " conv2d_4 (Conv2D)           (None, 8, 8, 64)          73792     \n",
      "                                                                 \n",
      " max_pooling2d_2 (MaxPoolin  (None, 8, 8, 64)          0         \n",
      " g2D)                                                            \n",
      "                                                                 \n",
      " dropout_2 (Dropout)         (None, 8, 8, 64)          0         \n",
      "                                                                 \n",
      " batch_normalization_2 (Bat  (None, 8, 8, 64)          256       \n",
      " chNormalization)                                                \n",
      "                                                                 \n",
      " flatten (Flatten)           (None, 4096)              0         \n",
      "                                                                 \n",
      " dense (Dense)               (None, 128)               524416    \n",
      "                                                                 \n",
      " dense_1 (Dense)             (None, 10)                1290      \n",
      "                                                                 \n",
      "=================================================================\n",
      "Total params: 730442 (2.79 MB)\n",
      "Trainable params: 730058 (2.78 MB)\n",
      "Non-trainable params: 384 (1.50 KB)\n",
      "_________________________________________________________________\n"
     ]
    }
   ],
   "source": [
    "# create model\n",
    "model = Sequential()\n",
    "\n",
    "model.add(Conv2D(filters = 32, kernel_size = (3, 3), activation = 'relu', input_shape = input_shape))\n",
    "model.add(Conv2D(filters = 64, kernel_size = (3, 3), activation = 'relu'))\n",
    "model.add(MaxPooling2D(pool_size = (2, 2)))\n",
    "model.add(Dropout(rate = 0.2))\n",
    "\n",
    "model.add(BatchNormalization()) \n",
    "model.add(Conv2D(filters = 64, kernel_size = (3, 3), activation = 'relu'))\n",
    "model.add(MaxPooling2D(pool_size = (1, 1)))\n",
    "model.add(Dropout(rate = 0.3)) \n",
    "\n",
    "model.add(BatchNormalization())\n",
    "model.add(Conv2D(filters = 128, kernel_size = (3, 3), activation = 'relu'))\n",
    "model.add(Conv2D(filters = 64, kernel_size = (3, 3), activation = 'relu'))\n",
    "model.add(MaxPooling2D(pool_size = (1, 1)))\n",
    "model.add(Dropout(rate = 0.3)) \n",
    "# information compilation\n",
    "model.add(BatchNormalization())\n",
    "model.add(Flatten())\n",
    "model.add(Dense(units = 128, activation = 'relu'))\n",
    "model.add(Dense(units = 10, activation = 'softmax'))\n",
    "\n",
    "model.summary()"
   ]
  },
  {
   "cell_type": "code",
   "execution_count": null,
   "id": "3ed44c55",
   "metadata": {},
   "outputs": [
    {
     "name": "stdout",
     "output_type": "stream",
     "text": [
      "Epoch 1/10\n",
      "1563/1563 [==============================] - 77s 49ms/step - loss: 1.5318 - accuracy: 0.4596 - val_loss: 1.2975 - val_accuracy: 0.5470\n",
      "Epoch 2/10\n",
      "1563/1563 [==============================] - 77s 49ms/step - loss: 1.1097 - accuracy: 0.6054 - val_loss: 1.2416 - val_accuracy: 0.5849\n",
      "Epoch 3/10\n",
      "1563/1563 [==============================] - 80s 51ms/step - loss: 0.9212 - accuracy: 0.6733 - val_loss: 0.8971 - val_accuracy: 0.6803\n",
      "Epoch 4/10\n",
      "1563/1563 [==============================] - 72s 46ms/step - loss: 0.8120 - accuracy: 0.7171 - val_loss: 0.9052 - val_accuracy: 0.6843\n",
      "Epoch 5/10\n",
      "1563/1563 [==============================] - 73s 47ms/step - loss: 0.7405 - accuracy: 0.7405 - val_loss: 0.7624 - val_accuracy: 0.7309\n",
      "Epoch 6/10\n",
      "1563/1563 [==============================] - 73s 46ms/step - loss: 0.6818 - accuracy: 0.7602 - val_loss: 0.8103 - val_accuracy: 0.7264\n",
      "Epoch 7/10\n",
      "1563/1563 [==============================] - 108s 69ms/step - loss: 0.6328 - accuracy: 0.7774 - val_loss: 0.7552 - val_accuracy: 0.7477\n",
      "Epoch 8/10\n",
      "1563/1563 [==============================] - 80s 51ms/step - loss: 0.5963 - accuracy: 0.7917 - val_loss: 0.7036 - val_accuracy: 0.7678\n",
      "Epoch 9/10\n",
      "1563/1563 [==============================] - 82s 53ms/step - loss: 0.5558 - accuracy: 0.8045 - val_loss: 0.6958 - val_accuracy: 0.7747\n",
      "Epoch 10/10\n",
      "1563/1563 [==============================] - 83s 53ms/step - loss: 0.5204 - accuracy: 0.8162 - val_loss: 0.7170 - val_accuracy: 0.7641\n",
      "Test accuracy: 0.7641000151634216\n"
     ]
    }
   ],
   "source": [
    "#train model\n",
    "model.compile(loss=keras.losses.categorical_crossentropy, optimizer='adam', metrics=['accuracy']) \n",
    "model.fit(train_images, train_labels, epochs=10, validation_data=(test_images, test_labels), shuffle=True) \n",
    "\n",
    "# test\n",
    "scores = model.evaluate(test_images, test_labels,verbose=0) \n",
    "print('Test accuracy:', scores[1]) "
   ]
  },
  {
   "cell_type": "code",
   "execution_count": 5,
   "id": "5a1ba9b1",
   "metadata": {},
   "outputs": [
    {
     "name": "stderr",
     "output_type": "stream",
     "text": [
      "/Library/Frameworks/Python.framework/Versions/3.11/lib/python3.11/site-packages/keras/src/engine/training.py:3103: UserWarning: You are saving your model as an HDF5 file via `model.save()`. This file format is considered legacy. We recommend using instead the native Keras format, e.g. `model.save('my_model.keras')`.\n",
      "  saving_api.save_model(\n"
     ]
    }
   ],
   "source": [
    "model.save('cifar_cnn.h5')"
   ]
  }
 ],
 "metadata": {
  "kernelspec": {
   "display_name": "Python 3",
   "language": "python",
   "name": "python3"
  },
  "language_info": {
   "codemirror_mode": {
    "name": "ipython",
    "version": 3
   },
   "file_extension": ".py",
   "mimetype": "text/x-python",
   "name": "python",
   "nbconvert_exporter": "python",
   "pygments_lexer": "ipython3",
   "version": "3.11.9"
  },
  "vscode": {
   "interpreter": {
    "hash": "03263855ed7acbda0c00adad839eec9c0ac090c3520e4a16e6c26e8319147c3b"
   }
  }
 },
 "nbformat": 4,
 "nbformat_minor": 5
}
